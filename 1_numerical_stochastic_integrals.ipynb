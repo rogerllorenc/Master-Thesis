{
 "cells": [
  {
   "cell_type": "code",
   "execution_count": 1,
   "id": "8383a653-5716-4971-9da0-59b45baca72f",
   "metadata": {},
   "outputs": [],
   "source": [
    "import numpy as np\n",
    "import matplotlib.pyplot as plt\n",
    "import pandas as pd\n",
    "import tensorflow as tf\n",
    "import keras"
   ]
  },
  {
   "cell_type": "code",
   "execution_count": 2,
   "id": "e1eee3f7-fca9-4e59-b2fa-e16f8d37b3c3",
   "metadata": {},
   "outputs": [],
   "source": [
    "from fbm import FBM # Fractional Brownian Motion"
   ]
  },
  {
   "cell_type": "code",
   "execution_count": 3,
   "id": "e1bd2665-ada7-41f7-ad99-d97d2c77dd30",
   "metadata": {},
   "outputs": [],
   "source": [
    "def quadratic_variation(B):\n",
    "    return np.cumsum(np.power(np.diff(B, axis=0, prepend=0.), 2), axis=0)"
   ]
  },
  {
   "cell_type": "code",
   "execution_count": 4,
   "id": "be6debbb-2285-4ff0-b6a1-1a91e7f778b2",
   "metadata": {},
   "outputs": [],
   "source": [
    "n_points = 3000 * 3000 # time steps from t_0 = 0 to t = T\n",
    "H = 0.5 # Hurst parameter. H = 0.5 is standard Brownian motion.\n",
    "T = 1\n",
    "f = FBM(n = n_points, hurst = H, length = T, method = 'daviesharte') # simulates the fractional brownian motion.\n",
    "W_t = f.fbm()\n",
    "times = f.times()"
   ]
  },
  {
   "cell_type": "code",
   "execution_count": 5,
   "id": "bdc8a542-aee5-46d8-a20a-a35f64b032d3",
   "metadata": {},
   "outputs": [],
   "source": [
    "# import requests\n",
    "# dir(f) # We can see that there is: fbm, fgn, hurst, length, method, n, times."
   ]
  },
  {
   "cell_type": "code",
   "execution_count": 6,
   "id": "c1b46bfc-cab1-4f48-bfb8-7d34ff0978c5",
   "metadata": {},
   "outputs": [
    {
     "data": {
      "text/plain": [
       "(Text(0.5, 1.0, 'H = 0.5'), None)"
      ]
     },
     "execution_count": 6,
     "metadata": {},
     "output_type": "execute_result"
    },
    {
     "data": {
      "image/png": "[encoded data removed]",
      "text/plain": [
       "<Figure size 1200x400 with 1 Axes>"
      ]
     },
     "metadata": {},
     "output_type": "display_data"
    }
   ],
   "source": [
    "plt.figure(figsize=(12,4)), plt.axis([0, 1.02, -3, 3])\n",
    "plt.plot(times, W_t, times, quadratic_variation(W_t), linewidth = 0.5) # See quadratic variation converges to T.\n",
    "plt.title('H = ' + str(H)), plt.grid()"
   ]
  },
  {
   "cell_type": "markdown",
   "id": "9899b2c3-be8f-4b19-b131-a0d4087520e1",
   "metadata": {},
   "source": [
    "## Auxiliary terms to compute stochastic integrals"
   ]
  },
  {
   "cell_type": "code",
   "execution_count": 7,
   "id": "d1ca50af-2e6d-4058-bd69-24369314456a",
   "metadata": {},
   "outputs": [],
   "source": [
    "delta_t = np.diff(times) # d(t) = t_{i+1} - t_{i}\n",
    "delta_W_t = np.diff(W_t) # dW(t) = W(t_{i+1}) - W(t_{i})\n",
    "t_terms = times[:-1] # t_i\n",
    "W_t_terms = W_t[:-1] # W(t_i)\n",
    "# T = times[-1] already defined at the beginning\n",
    "W_T = W_t[-1] # W(T)"
   ]
  },
  {
   "cell_type": "markdown",
   "id": "8cdee2da-a501-44cf-8583-cdd25febe12c",
   "metadata": {},
   "source": [
    "# $$\\int_0^T W(t)\\,dW(t) = \\frac{1}{2}W^2(T) - \\frac{1}{2}T$$"
   ]
  },
  {
   "cell_type": "code",
   "execution_count": 8,
   "id": "8709e70f-c6ba-4aaf-a674-877474eb1b4f",
   "metadata": {},
   "outputs": [
    {
     "name": "stdout",
     "output_type": "stream",
     "text": [
      "Numerical integration: -0.4893085773246658\n",
      "Analytical integration: -0.4893118652772277\n"
     ]
    }
   ],
   "source": [
    "numerical_int = np.sum(W_t_terms * delta_W_t)\n",
    "analytical_int = (np.power(W_T,2) - T) / 2\n",
    "print(\"Numerical integration: \" + str(numerical_int))\n",
    "print(\"Analytical integration: \" + str(analytical_int))"
   ]
  },
  {
   "cell_type": "markdown",
   "id": "f4283443-15a8-4ca1-8bba-2c5328b0ae3e",
   "metadata": {},
   "source": [
    "# $$\\int_0^T W(t) \\,d(t) = T W(T) - \\int_0^T t \\, dW(t)$$"
   ]
  },
  {
   "cell_type": "code",
   "execution_count": 9,
   "id": "e174981d-d08e-498d-bc4f-abb60474b3d9",
   "metadata": {},
   "outputs": [
    {
     "name": "stdout",
     "output_type": "stream",
     "text": [
      "Numerical integration: 0.14075382313393595\n",
      "Analytical integration: 0.14075380688879605\n"
     ]
    }
   ],
   "source": [
    "numerical_int = np.sum(W_t_terms * delta_t) \n",
    "analytical_int = times[-1]*W_t[-1] - np.sum(t_terms * delta_W_t) \n",
    "print(\"Numerical integration: \" + str(numerical_int))\n",
    "print(\"Analytical integration: \" + str(analytical_int))"
   ]
  },
  {
   "cell_type": "markdown",
   "id": "ff37f4f4-bfa5-4334-b445-c2b7cbd0a912",
   "metadata": {},
   "source": [
    "# $$\\int_0^T W^2(t) \\,dW(t) = \\frac{W^3(T) - 3 \\int_0^T W(t) \\,dt}{3}$$"
   ]
  },
  {
   "cell_type": "code",
   "execution_count": 10,
   "id": "1aa1c7cf-c9fb-4392-b76c-9ed72d873be2",
   "metadata": {},
   "outputs": [
    {
     "name": "stdout",
     "output_type": "stream",
     "text": [
      "Numerical integration: -0.14159660764951384\n",
      "Analytical integration: -0.1417956045786001\n"
     ]
    }
   ],
   "source": [
    "numerical_int = np.sum(np.power(W_t_terms,2) * delta_W_t)\n",
    "analytical_int = (np.power(W_T,3) - 3*np.sum(W_t_terms * delta_t)) / 3\n",
    "print(\"Numerical integration: \" + str(numerical_int))\n",
    "print(\"Analytical integration: \" + str(analytical_int))"
   ]
  },
  {
   "cell_type": "markdown",
   "id": "26c4d3f1-533e-44b9-acda-e7714f070fbd",
   "metadata": {},
   "source": [
    "## I_4(1) in Wiener-Ito Chaos Expansion notation, analytic computation given by Hermite polynomials"
   ]
  },
  {
   "cell_type": "markdown",
   "id": "d49c7e4d-60d2-4634-a268-4c9caf69ab9f",
   "metadata": {},
   "source": [
    "## $$4! \\int_0^T  \\int_0^{t_4} \\int_0^{t_3} \\int_0^{t_2} (1) \\,dW(t_1)dW(t_2)dW(t_3)dW(t_4) = W^4(T) - 6TW^2(T) + 3T^2$$"
   ]
  },
  {
   "cell_type": "code",
   "execution_count": 11,
   "id": "81ec1c32-b5da-404b-8688-1c1fdbcd6889",
   "metadata": {},
   "outputs": [
    {
     "name": "stdout",
     "output_type": "stream",
     "text": [
      "Analytical integration: 2.8721993282221407\n"
     ]
    }
   ],
   "source": [
    "analytical_int = np.power(W_T,4) - 6*T*np.power(W_T,2) + 3*T**2\n",
    "print(\"Analytical integration: \" + str(analytical_int))"
   ]
  }
 ],
 "metadata": {
  "kernelspec": {
   "display_name": "Python 3 (ipykernel)",
   "language": "python",
   "name": "python3"
  },
  "language_info": {
   "codemirror_mode": {
    "name": "ipython",
    "version": 3
   },
   "file_extension": ".py",
   "mimetype": "text/x-python",
   "name": "python",
   "nbconvert_exporter": "python",
   "pygments_lexer": "ipython3",
   "version": "3.11.4"
  }
 },
 "nbformat": 4,
 "nbformat_minor": 5
}
